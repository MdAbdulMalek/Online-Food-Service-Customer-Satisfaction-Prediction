{
 "cells": [
  {
   "cell_type": "code",
   "execution_count": 1,
   "id": "distributed-hamburg",
   "metadata": {},
   "outputs": [],
   "source": [
    "import pandas as pd\n",
    "from matplotlib import pyplot as plt"
   ]
  },
  {
   "cell_type": "code",
   "execution_count": 2,
   "id": "human-gamma",
   "metadata": {},
   "outputs": [
    {
     "name": "stdout",
     "output_type": "stream",
     "text": [
      "        Timestamp  Score 1.\\tDo you order food onlin   2.Age  \\\n",
      "0  03-09-21 17:39      0                         Yes   21-35   \n",
      "1  03-09-21 17:40      0                         Yes  21-Oct   \n",
      "2  03-09-21 17:49      0                         Yes   21-35   \n",
      "3  03-09-21 23:57      0                         Yes   21-35   \n",
      "4  03-10-21 21:37      0                         Yes   21-35   \n",
      "\n",
      "  3.   Why do you order from online food delivery companies?         security  \\\n",
      "0                 For good pricing, For food quality                Dont know   \n",
      "1                                      Others reason          Completely safe   \n",
      "2                                      Others reason                Dont know   \n",
      "3                                   For food quality          Completely safe   \n",
      "4                                   For food quality          Completely safe   \n",
      "\n",
      "  harassed           price 7.\\tWhat do you use to complete the order?  \\\n",
      "0       No  Medium quality                                       Apps   \n",
      "1      Yes     Low quality                                       Apps   \n",
      "2       No  Medium quality                                       Apps   \n",
      "3      Yes    Good quality                                       Apps   \n",
      "4      Yes  Medium quality                                   Websites   \n",
      "\n",
      "       location   time voucher    arrival      behavior          satisfaction  \n",
      "0  Inside Dhaka  Lunch     Yes      Never      Flexible  Moderately satisfied  \n",
      "1  Inside Dhaka  Lunch      No  Sometimes  Professional       Fully Satisfied  \n",
      "2  Inside Dhaka  Lunch     Yes  Sometimes      Flexible  Moderately satisfied  \n",
      "3  Inside Dhaka  Lunch      No  Sometimes  Professional       Fully Satisfied  \n",
      "4  Inside Dhaka  Lunch      No     Always  Professional       Fully Satisfied  \n"
     ]
    }
   ],
   "source": [
    "df = pd.read_csv(\"food.csv\")\n",
    "print(df.head())"
   ]
  },
  {
   "cell_type": "code",
   "execution_count": 3,
   "id": "quiet-budget",
   "metadata": {},
   "outputs": [],
   "source": [
    "df = df.dropna()"
   ]
  },
  {
   "cell_type": "code",
   "execution_count": 4,
   "id": "complex-chain",
   "metadata": {},
   "outputs": [],
   "source": [
    "df.drop(['2.Age'], axis=1, inplace=True)"
   ]
  },
  {
   "cell_type": "code",
   "execution_count": 5,
   "id": "cardiovascular-collaboration",
   "metadata": {},
   "outputs": [],
   "source": [
    "df.drop([\"1.\tDo you order food onlin\"], axis=1, inplace=True)"
   ]
  },
  {
   "cell_type": "code",
   "execution_count": 6,
   "id": "imported-paste",
   "metadata": {},
   "outputs": [],
   "source": [
    "df.drop(['3.   Why do you order from online food delivery companies?'], axis=1, inplace=True)"
   ]
  },
  {
   "cell_type": "code",
   "execution_count": 7,
   "id": "binary-thought",
   "metadata": {},
   "outputs": [],
   "source": [
    "df.drop(['7.\tWhat do you use to complete the order?'], axis=1, inplace=True)"
   ]
  },
  {
   "cell_type": "code",
   "execution_count": 8,
   "id": "streaming-sessions",
   "metadata": {},
   "outputs": [],
   "source": [
    "df.drop(['Timestamp'], axis=1, inplace=True)"
   ]
  },
  {
   "cell_type": "code",
   "execution_count": 9,
   "id": "brief-telling",
   "metadata": {},
   "outputs": [],
   "source": [
    "df.drop(['Score'], axis=1, inplace=True)"
   ]
  },
  {
   "cell_type": "code",
   "execution_count": 10,
   "id": "automated-house",
   "metadata": {},
   "outputs": [],
   "source": [
    "df.security[df.security == 'Dont know'] = 1\n",
    "df.security[df.security == 'Completely safe'] = 2\n",
    "df.security[df.security == 'Not safe'] = 3"
   ]
  },
  {
   "cell_type": "code",
   "execution_count": 11,
   "id": "structured-hunger",
   "metadata": {},
   "outputs": [],
   "source": [
    "df.harassed[df.harassed == 'No'] = 1\n",
    "df.harassed[df.harassed == 'Yes'] = 2"
   ]
  },
  {
   "cell_type": "code",
   "execution_count": 12,
   "id": "worthy-forty",
   "metadata": {},
   "outputs": [],
   "source": [
    "df.price[df.price == 'Medium quality'] = 1\n",
    "df.price[df.price == 'Low quality'] = 2\n",
    "df.price[df.price == 'Good quality'] = 3"
   ]
  },
  {
   "cell_type": "code",
   "execution_count": 13,
   "id": "derived-walnut",
   "metadata": {},
   "outputs": [],
   "source": [
    "df.location[df.location == 'Inside Dhaka'] = 1\n",
    "df.location[df.location == 'Outside Dhaka'] = 2"
   ]
  },
  {
   "cell_type": "code",
   "execution_count": 14,
   "id": "eleven-colleague",
   "metadata": {},
   "outputs": [],
   "source": [
    "df.time[df.time == 'Breakfast'] = 1\n",
    "df.time[df.time == 'Lunch'] = 2\n",
    "df.time[df.time == 'Dinner'] = 3"
   ]
  },
  {
   "cell_type": "code",
   "execution_count": 15,
   "id": "rising-shoot",
   "metadata": {},
   "outputs": [],
   "source": [
    "df.voucher[df.voucher == 'No'] = 1\n",
    "df.voucher[df.voucher == 'Yes'] = 2"
   ]
  },
  {
   "cell_type": "code",
   "execution_count": 16,
   "id": "blind-router",
   "metadata": {},
   "outputs": [],
   "source": [
    "df.arrival[df.arrival == 'Sometimes'] = 1\n",
    "df.arrival[df.arrival == 'Always'] = 2\n",
    "df.arrival[df.arrival == 'Never'] = 3"
   ]
  },
  {
   "cell_type": "code",
   "execution_count": 17,
   "id": "exclusive-probe",
   "metadata": {},
   "outputs": [],
   "source": [
    "df.behavior[df.behavior == 'Flexible'] = 1\n",
    "df.behavior[df.behavior == 'Professional'] = 2\n",
    "df.behavior[df.behavior == 'Rude'] = 3"
   ]
  },
  {
   "cell_type": "code",
   "execution_count": 18,
   "id": "furnished-possibility",
   "metadata": {},
   "outputs": [],
   "source": [
    "df.satisfaction[df.satisfaction == 'Moderately satisfied'] = 1\n",
    "df.satisfaction[df.satisfaction == 'Fully Satisfied'] = 2\n",
    "df.satisfaction[df.satisfaction == 'Not satisfied at all'] = 3"
   ]
  },
  {
   "cell_type": "code",
   "execution_count": 19,
   "id": "expired-clone",
   "metadata": {},
   "outputs": [
    {
     "name": "stdout",
     "output_type": "stream",
     "text": [
      "    security harassed price location time voucher arrival behavior  \\\n",
      "794        1        2     3        1    2       1       1        1   \n",
      "795        1        1     1        1    1       1       1        1   \n",
      "796        3        2     1        1    3       1       3        1   \n",
      "797        2        2     3        2    1       2       1        1   \n",
      "798        3        1     1        1    2       1       1        2   \n",
      "\n",
      "    satisfaction  \n",
      "794            2  \n",
      "795            3  \n",
      "796            3  \n",
      "797            2  \n",
      "798            1  \n"
     ]
    }
   ],
   "source": [
    "print(df.tail())"
   ]
  },
  {
   "cell_type": "code",
   "execution_count": 39,
   "id": "twelve-hierarchy",
   "metadata": {},
   "outputs": [],
   "source": [
    "Y = df[\"satisfaction\"].values "
   ]
  },
  {
   "cell_type": "code",
   "execution_count": 40,
   "id": "gothic-entry",
   "metadata": {},
   "outputs": [],
   "source": [
    "Y=Y.astype('int')"
   ]
  },
  {
   "cell_type": "code",
   "execution_count": 41,
   "id": "higher-boulder",
   "metadata": {},
   "outputs": [],
   "source": [
    "X = df.drop(labels = [\"satisfaction\"], axis=1)  "
   ]
  },
  {
   "cell_type": "code",
   "execution_count": 45,
   "id": "seventh-inspiration",
   "metadata": {},
   "outputs": [],
   "source": [
    "from sklearn.model_selection import train_test_split\n",
    "X_train, X_test, y_train, y_test = train_test_split(X, Y, test_size=0.25, random_state=20)"
   ]
  },
  {
   "cell_type": "code",
   "execution_count": 46,
   "id": "illegal-geology",
   "metadata": {},
   "outputs": [],
   "source": [
    "from sklearn.linear_model import LogisticRegression\n",
    "model = LogisticRegression()"
   ]
  },
  {
   "cell_type": "code",
   "execution_count": 47,
   "id": "aware-antigua",
   "metadata": {},
   "outputs": [
    {
     "data": {
      "text/plain": [
       "LogisticRegression()"
      ]
     },
     "execution_count": 47,
     "metadata": {},
     "output_type": "execute_result"
    }
   ],
   "source": [
    "model.fit(X_train, y_train)"
   ]
  },
  {
   "cell_type": "code",
   "execution_count": 34,
   "id": "hired-skating",
   "metadata": {},
   "outputs": [],
   "source": [
    "prediction_test = model.predict(X_test)"
   ]
  },
  {
   "cell_type": "code",
   "execution_count": 35,
   "id": "ecological-portrait",
   "metadata": {},
   "outputs": [
    {
     "name": "stdout",
     "output_type": "stream",
     "text": [
      "Accuracy =  0.7942122186495176\n"
     ]
    }
   ],
   "source": [
    "from sklearn import metrics\n",
    "#Print the prediction accuracy\n",
    "print (\"Accuracy = \", metrics.accuracy_score(y_test, prediction_test))"
   ]
  },
  {
   "cell_type": "code",
   "execution_count": 48,
   "id": "functional-challenge",
   "metadata": {},
   "outputs": [],
   "source": [
    "# SVM"
   ]
  },
  {
   "cell_type": "code",
   "execution_count": 50,
   "id": "instructional-broad",
   "metadata": {},
   "outputs": [
    {
     "data": {
      "text/plain": [
       "SVC(C=100, gamma='auto')"
      ]
     },
     "execution_count": 50,
     "metadata": {},
     "output_type": "execute_result"
    }
   ],
   "source": [
    "from sklearn.svm import SVC\n",
    "svm = SVC(C=100,kernel='rbf', gamma='auto')\n",
    "svm.fit(X_train,y_train)"
   ]
  },
  {
   "cell_type": "code",
   "execution_count": 52,
   "id": "demographic-charity",
   "metadata": {},
   "outputs": [
    {
     "name": "stdout",
     "output_type": "stream",
     "text": [
      "Accuracy:  0.9487179487179487\n"
     ]
    }
   ],
   "source": [
    "accuracy = svm.score(X_test,y_test)\n",
    "print('Accuracy: ', accuracy)"
   ]
  },
  {
   "cell_type": "code",
   "execution_count": 53,
   "id": "helpful-romance",
   "metadata": {},
   "outputs": [
    {
     "name": "stdout",
     "output_type": "stream",
     "text": [
      "[[ 0.84591481 -0.73350148 -0.39146894  0.12763715  0.02926399  1.5204491\n",
      "  -1.68636231 -0.77865553]\n",
      " [-0.05132247 -0.33951313  0.5292667  -0.36104896  0.01381502  0.14239917\n",
      "   0.57414047  0.61001962]\n",
      " [-0.79459234  1.0730146  -0.13779776  0.2334118  -0.04307901 -1.66284826\n",
      "   1.11222184  0.16863591]]\n"
     ]
    }
   ],
   "source": [
    "print(model.coef_) #Print the coefficients for each independent variable. "
   ]
  },
  {
   "cell_type": "code",
   "execution_count": 54,
   "id": "informational-private",
   "metadata": {},
   "outputs": [],
   "source": [
    "weights = pd.Series(model.coef_[0], index=X.columns.values)"
   ]
  },
  {
   "cell_type": "code",
   "execution_count": 55,
   "id": "thermal-bible",
   "metadata": {},
   "outputs": [
    {
     "name": "stdout",
     "output_type": "stream",
     "text": [
      "Weights for each variables is a follows...\n",
      "security    0.845915\n",
      "harassed   -0.733501\n",
      "price      -0.391469\n",
      "location    0.127637\n",
      "time        0.029264\n",
      "voucher     1.520449\n",
      "arrival    -1.686362\n",
      "behavior   -0.778656\n",
      "dtype: float64\n"
     ]
    }
   ],
   "source": [
    "print(\"Weights for each variables is a follows...\")\n",
    "print(weights)"
   ]
  },
  {
   "cell_type": "code",
   "execution_count": 57,
   "id": "naked-level",
   "metadata": {},
   "outputs": [],
   "source": [
    "#KNN"
   ]
  },
  {
   "cell_type": "code",
   "execution_count": 58,
   "id": "rational-halifax",
   "metadata": {},
   "outputs": [],
   "source": [
    "from sklearn.neighbors import KNeighborsClassifier"
   ]
  },
  {
   "cell_type": "code",
   "execution_count": 59,
   "id": "european-fitting",
   "metadata": {},
   "outputs": [
    {
     "data": {
      "text/plain": [
       "KNeighborsClassifier(n_neighbors=3)"
      ]
     },
     "execution_count": 59,
     "metadata": {},
     "output_type": "execute_result"
    }
   ],
   "source": [
    "knn = KNeighborsClassifier(n_neighbors=3)\n",
    "\n",
    "# Train the model using the training sets\n",
    "knn.fit(X_train,y_train)"
   ]
  },
  {
   "cell_type": "code",
   "execution_count": 60,
   "id": "structured-porter",
   "metadata": {},
   "outputs": [],
   "source": [
    "y_pred_knn = knn.predict(X_test)"
   ]
  },
  {
   "cell_type": "code",
   "execution_count": 61,
   "id": "adolescent-librarian",
   "metadata": {},
   "outputs": [
    {
     "name": "stdout",
     "output_type": "stream",
     "text": [
      "Accuracy: 0.9384615384615385\n"
     ]
    }
   ],
   "source": [
    "from sklearn import metrics\n",
    "# Model Accuracy, how often is the classifier correct?\n",
    "print(\"Accuracy:\",metrics.accuracy_score(y_test, y_pred_knn))"
   ]
  },
  {
   "cell_type": "code",
   "execution_count": 62,
   "id": "integral-execution",
   "metadata": {},
   "outputs": [
    {
     "name": "stdout",
     "output_type": "stream",
     "text": [
      "[[ 0.84591481 -0.73350148 -0.39146894  0.12763715  0.02926399  1.5204491\n",
      "  -1.68636231 -0.77865553]\n",
      " [-0.05132247 -0.33951313  0.5292667  -0.36104896  0.01381502  0.14239917\n",
      "   0.57414047  0.61001962]\n",
      " [-0.79459234  1.0730146  -0.13779776  0.2334118  -0.04307901 -1.66284826\n",
      "   1.11222184  0.16863591]]\n"
     ]
    }
   ],
   "source": [
    "print(model.coef_) #Print the coefficients for each independent variable. "
   ]
  },
  {
   "cell_type": "code",
   "execution_count": 63,
   "id": "instructional-snake",
   "metadata": {},
   "outputs": [],
   "source": [
    "weights = pd.Series(model.coef_[0], index=X.columns.values)"
   ]
  },
  {
   "cell_type": "code",
   "execution_count": 64,
   "id": "criminal-vaccine",
   "metadata": {},
   "outputs": [
    {
     "name": "stdout",
     "output_type": "stream",
     "text": [
      "Weights for each variables is a follows...\n",
      "security    0.845915\n",
      "harassed   -0.733501\n",
      "price      -0.391469\n",
      "location    0.127637\n",
      "time        0.029264\n",
      "voucher     1.520449\n",
      "arrival    -1.686362\n",
      "behavior   -0.778656\n",
      "dtype: float64\n"
     ]
    }
   ],
   "source": [
    "print(\"Weights for each variables is a follows...\")\n",
    "print(weights)"
   ]
  },
  {
   "cell_type": "code",
   "execution_count": null,
   "id": "charitable-execution",
   "metadata": {},
   "outputs": [],
   "source": []
  },
  {
   "cell_type": "code",
   "execution_count": 56,
   "id": "spiritual-quebec",
   "metadata": {},
   "outputs": [],
   "source": [
    "# LR"
   ]
  },
  {
   "cell_type": "code",
   "execution_count": 51,
   "id": "caroline-arthritis",
   "metadata": {},
   "outputs": [
    {
     "name": "stdout",
     "output_type": "stream",
     "text": [
      "[[ 0.84591481 -0.73350148 -0.39146894  0.12763715  0.02926399  1.5204491\n",
      "  -1.68636231 -0.77865553]\n",
      " [-0.05132247 -0.33951313  0.5292667  -0.36104896  0.01381502  0.14239917\n",
      "   0.57414047  0.61001962]\n",
      " [-0.79459234  1.0730146  -0.13779776  0.2334118  -0.04307901 -1.66284826\n",
      "   1.11222184  0.16863591]]\n"
     ]
    }
   ],
   "source": [
    "print(model.coef_) #Print the coefficients for each independent variable. "
   ]
  },
  {
   "cell_type": "code",
   "execution_count": 29,
   "id": "worthy-communist",
   "metadata": {},
   "outputs": [],
   "source": [
    "weights = pd.Series(model.coef_[0], index=X.columns.values)"
   ]
  },
  {
   "cell_type": "code",
   "execution_count": 30,
   "id": "sealed-toyota",
   "metadata": {},
   "outputs": [
    {
     "name": "stdout",
     "output_type": "stream",
     "text": [
      "Weights for each variables is a follows...\n",
      "security    0.833722\n",
      "harassed   -0.666966\n",
      "price      -0.406681\n",
      "location    0.183822\n",
      "time        0.051294\n",
      "voucher     1.504046\n",
      "arrival    -1.646136\n",
      "behavior   -0.780977\n",
      "dtype: float64\n"
     ]
    }
   ],
   "source": [
    "print(\"Weights for each variables is a follows...\")\n",
    "print(weights)"
   ]
  },
  {
   "cell_type": "code",
   "execution_count": null,
   "id": "confidential-liquid",
   "metadata": {},
   "outputs": [],
   "source": []
  }
 ],
 "metadata": {
  "kernelspec": {
   "display_name": "Python 3",
   "language": "python",
   "name": "python3"
  },
  "language_info": {
   "codemirror_mode": {
    "name": "ipython",
    "version": 3
   },
   "file_extension": ".py",
   "mimetype": "text/x-python",
   "name": "python",
   "nbconvert_exporter": "python",
   "pygments_lexer": "ipython3",
   "version": "3.7.9"
  }
 },
 "nbformat": 4,
 "nbformat_minor": 5
}
